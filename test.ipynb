{
 "cells": [
  {
   "cell_type": "code",
   "execution_count": null,
   "metadata": {},
   "outputs": [],
   "source": [
    "import json\n",
    "import pandas as pd\n",
    "\n",
    "with open('StructuredBooks/neuromancer.json') as f:\n",
    "\tdata = json.load(f)"
   ]
  },
  {
   "cell_type": "code",
   "execution_count": null,
   "metadata": {},
   "outputs": [],
   "source": [
    "def processed(lst):\n",
    "\tnewlst = []\n",
    "\tctext = \"\"\n",
    "\tfor txt in lst:\n",
    "\t\tctext += txt\n",
    "\t\t\t\n",
    "\t\tif ctext!=\"\" and ctext[-1] == '.':\n",
    "\t\t\tnewlst.append(ctext)\n",
    "\t\t\tctext = \"\"\n",
    "\tif ctext != \"\":\n",
    "\t\tnewlst.append(ctext)\n",
    "\treturn newlst\n",
    "\n",
    "new_data = {}\n",
    "new_data['contents'] = {}\n",
    "for key in data['contents']:\n",
    "\tnew_data['contents'][key] = processed(data['contents'][key])\n",
    "\t"
   ]
  },
  {
   "cell_type": "code",
   "execution_count": 46,
   "metadata": {},
   "outputs": [
    {
     "name": "stdout",
     "output_type": "stream",
     "text": [
      "Title: ('Pride and Prejudice', {})\n",
      "Author: ('Jane Austen', {'{http://www.idpf.org/2007/opf}file-as': 'Austen, Jane'})\n"
     ]
    },
    {
     "name": "stderr",
     "output_type": "stream",
     "text": [
      "c:\\Users\\AHU2021\\miniconda3\\lib\\site-packages\\ebooklib\\epub.py:1395: UserWarning: In the future version we will turn default option ignore_ncx to True.\n",
      "  warnings.warn('In the future version we will turn default option ignore_ncx to True.')\n",
      "c:\\Users\\AHU2021\\miniconda3\\lib\\site-packages\\ebooklib\\epub.py:1423: FutureWarning: This search incorrectly ignores the root element, and will be fixed in a future version.  If you rely on the current behaviour, change it to './/xmlns:rootfile[@media-type]'\n",
      "  for root_file in tree.findall('//xmlns:rootfile[@media-type]', namespaces={'xmlns': NAMESPACES['CONTAINERNS']}):\n"
     ]
    },
    {
     "data": {
      "text/plain": [
       "21"
      ]
     },
     "execution_count": 46,
     "metadata": {},
     "output_type": "execute_result"
    }
   ],
   "source": [
    "from ebooklib import epub\n",
    "import ebooklib\n",
    "\n",
    "book = epub.read_epub(\"ExamplesBooks\\prideandprejudice.epub\")\n",
    "\n",
    "text = \"\"\n",
    "# Print metadata (title, author, etc.)\n",
    "title = book.get_metadata('DC', 'title')\n",
    "author = book.get_metadata('DC', 'creator')\n",
    "print(f\"Title: {title[0] if title else 'Unknown'}\")\n",
    "print(f\"Author: {author[0] if author else 'Unknown'}\")\n",
    "\n",
    "len(list(book.get_items()))"
   ]
  },
  {
   "cell_type": "code",
   "execution_count": 47,
   "metadata": {},
   "outputs": [],
   "source": [
    "import json\n",
    "\n",
    "with open('StructuredBooks/prideandprejudice.json') as f:\n",
    "\tout = json.load(f)"
   ]
  },
  {
   "cell_type": "code",
   "execution_count": 50,
   "metadata": {},
   "outputs": [
    {
     "data": {
      "text/plain": [
       "[' “My dear friend,\\n“If you are not so compassionate as to dine to-day with Louisa and\\nme, we shall be in danger of hating each other for the rest of our\\nlives; for a whole day’s tête-à-tête between two women can never\\nend without a quarrel. Come as soon as you can on the receipt of\\nthis. My brother and the gentlemen are to dine with the officers.\\nYours ever,',\n",
       " '\\n\\n“Caroline Bingley.”\\n\\n“With the officers!” cried Lydia: “I wonder my aunt did not tell us of\\nthat.”\\n“Dining out,” said Mrs. Bennet; “that is very unlucky.”\\n“Can I have the carriage?” said Jane.\\n“No, my dear, you had better go on horseback, because it seems likely to\\nrain; and then you must stay all night.”\\n“That would be a good scheme,” said Elizabeth, “if you were sure that\\nthey would not offer to send her home.”\\n“Oh, but the gentlemen will have Mr. Bingley’s chaise to go to Meryton;\\nand the Hursts have no horses to theirs.”\\n“I had much rather go in the coach.”\\n“But, my dear, your father cannot spare the horses, I am sure. They are\\nwanted in the farm, Mr. Bennet, are not they?”\\n\\n[Image unavailable.]\\nCheerful prognostics\\n\\n“They are wanted in the farm much oftener than I can get them.”\\n“But if you have got them to-day,” said Elizabeth, “my mother’s purpose\\nwill be answered.”\\nShe did at last extort from her father an acknowledgment that the horses\\nwere engaged; Jane was therefore obliged to go on horseback, and her\\nmother attended her to the door with many cheerful prognostics of a bad\\nday. Her hopes were answered; Jane had not been gone long before it\\nrained hard. Her sisters were uneasy for her, but her mother was\\ndelighted. The rain continued the whole evening without intermission;\\nJane certainly could not come back.\\n“This was a lucky idea of mine, indeed!” said Mrs. Bennet, more than\\nonce, as if the credit of making it rain were all her own. Till the next\\nmorning, however, she was not aware of all the felicity of her\\ncontrivance. Breakfast was scarcely over when a servant from Netherfield\\nbrought the following note for Elizabeth:—\\n“My dearest Lizzie,\\n“I find myself very unwell this morning, which, I suppose, is to be\\nimputed to my getting wet through yesterday. My kind friends will\\nnot hear of my returning home till I am better. They insist also on\\nmy seeing Mr. Jones—therefore do not be alarmed if you should hear\\nof his having been to me—and, excepting a sore throat and a\\nheadache, there is not much the matter with me.',\n",
       " '\\n\\n“Yours, etc.”\\n\\n“Well, my dear,” said Mr. Bennet, when Elizabeth had read the note\\naloud, “if your daughter should have a dangerous fit of illness—if she\\nshould die—it would be a comfort to know that it was all in pursuit of\\nMr. Bingley, and under your orders.”\\n“Oh, I am not at all afraid of her dying. People do not die of little\\ntrifling colds. She will be taken good care of. As long as she stays\\nthere, it is all very well. I would go and see her if I could have the\\ncarriage.”\\nElizabeth, feeling really anxious, determined to go to her, though the\\ncarriage was not to be had: and as she was no horsewoman, walking was\\nher only alternative. She declared her resolution.\\n“How can you be so silly,” cried her mother, “as to think of such a\\nthing, in all this dirt! You will not be fit to be seen when you get\\nthere.”\\n“I shall be very fit to see Jane—which is all I want.”\\n“Is this a hint to me, Lizzy,” said her father, “to send for the\\nhorses?”\\n“No, indeed. I do not wish to avoid the walk. The distance is nothing,\\nwhen one has a motive; only three miles. I shall be back by dinner.”\\n“I admire the activity of your benevolence,” observed Mary, “but every\\nimpulse of feeling should be guided by reason; and, in my opinion,\\nexertion should always be in proportion to what is required.”\\n“We will go as far as Meryton with you,” said Catherine and Lydia.\\nElizabeth accepted their company, and the three young ladies set off\\ntogether.\\n“If we make haste,” said Lydia, as they walked along, “perhaps we may\\nsee something of Captain Carter, before he goes.”\\nIn Meryton they parted: the two youngest repaired to the lodgings of one\\nof the officers’ wives, and Elizabeth continued her walk alone, crossing\\nfield after field at a quick pace, jumping over stiles and springing\\nover puddles, with impatient activity, and finding herself at last\\nwithin view of the house, with weary ancles, dirty stockings, and a face\\nglowing with the warmth of exercise.\\nShe was shown into the breakfast parlour, where all but Jane were\\nassembled, and where her appearance created a great deal of surprise.\\nThat she should have walked three miles so early in the day in such\\ndirty weather, and by herself, was almost incredible to Mrs. Hurst and\\nMiss Bingley; and Elizabeth was convinced that they held her in contempt\\nfor it. She was received, however, very politely by them; and in their\\nbrother’s manners there was something better than politeness—there was\\ngood-humour and kindness. Mr. Darcy said very little, and Mr. Hurst\\nnothing at all. The former was divided between admiration of the\\nbrilliancy which exercise had given to her complexion and doubt as to\\nthe occasion’s justifying her coming so far alone. The latter was\\nthinking only of his breakfast.\\nHer inquiries after her sister were not very favourably answered. Miss\\nBennet had slept ill, and though up, was very feverish, and not well\\nenough to leave her room. Elizabeth was glad to be taken to her\\nimmediately; and Jane, who had only been withheld by the fear of giving\\nalarm or inconvenience, from expressing in her note how much she longed\\nfor such a visit, was delighted at her entrance. She was not equal,\\nhowever, to much conversation; and when Miss Bingley left them together,\\ncould attempt little beside expressions of gratitude for the\\nextraordinary kindness she was treated with. Elizabeth silently attended\\nher.',\n",
       " '\\n\\n[Image unavailable.]\\n\\n“The Apothecary came”\\n\\n\\nWhen breakfast was over, they were joined by the sisters; and Elizabeth\\nbegan to like them herself, when she saw how much affection and\\nsolicitude they showed for Jane. The apothecary came; and having\\nexamined his patient, said, as might be supposed, that she had caught a\\nviolent cold, and that they must endeavour to get the better of it;\\nadvised her to return to bed, and promised her some draughts. The advice\\nwas followed readily, for the feverish symptoms increased, and her head\\nached acutely. Elizabeth did not quit her room for a moment, nor were\\nthe other ladies often absent; the gentlemen being out, they had in fact\\nnothing to do elsewhere.\\nWhen the clock struck three, Elizabeth felt that she must go, and very\\nunwillingly said so. Miss Bingley offered her the carriage, and she only\\nwanted a little pressing to accept it, when Jane testified such concern\\nat parting with her that Miss Bingley was obliged to convert the offer\\nof the chaise into an invitation to remain at Netherfield for the\\npresent. Elizabeth most thankfully consented, and a servant was\\ndespatched to Longbourn, to acquaint the family with her stay, and bring\\nback a supply of clothes.',\n",
       " '\\n\\n\\n[Image unavailable.]\\n\\n\\nCovering a screen.\\n\\n\\n\\nCHAPTER VIII.\\n\\nAT five o’clock the two ladies retired to dress, and at half-past six\\nElizabeth was summoned to dinner. To the civil inquiries which then\\npoured in, and amongst which she had the pleasure of distinguishing the\\nmuch superior solicitude of Mr. Bingley, she could not make a very\\nfavourable answer. Jane was by no means better. The sisters, on hearing\\nthis, repeated three or four times how much they were grieved, how\\nshocking it was to have a bad cold, and how excessively they disliked\\nbeing ill themselves; and then thought no more of the matter: and their\\nindifference towards Jane, when not immediately before them, restored\\nElizabeth to the enjoyment of all her original dislike.\\nTheir brother, indeed, was the only one of the party whom she could\\nregard with any complacency. His anxiety for Jane was evident, and his\\nattentions to herself most pleasing; and they prevented her feeling\\nherself so much an intruder as she believed she was considered by the\\nothers. She had very little notice from any but him. Miss Bingley was\\nengrossed by Mr. Darcy, her sister scarcely less so; and as for Mr.\\nHurst, by whom Elizabeth sat, he was an indolent man, who lived only to\\neat, drink, and play at cards, who, when he found her prefer a plain\\ndish to a ragout, had nothing to say to her.\\nWhen dinner was over, she returned directly to Jane, and Miss Bingley\\nbegan abusing her as soon as she was out of the room. Her manners were\\npronounced to be very bad indeed,—a mixture of pride and impertinence:\\nshe had no conversation, no style, no taste, no beauty. Mrs. Hurst\\nthought the same, and added,—\\n“She has nothing, in short, to recommend her, but being an excellent\\nwalker. I shall never forget her appearance this morning. She really\\nlooked almost wild.”\\n“She did indeed, Louisa. I could hardly keep my countenance. Very\\nnonsensical to come at all! Why must she be scampering about the\\ncountry, because her sister had a cold? Her hair so untidy, so blowzy!”\\n“Yes, and her petticoat; I hope you saw her petticoat, six inches deep\\nin mud, I am absolutely certain, and the gown which had been let down to\\nhide it not doing its office.”\\n“Your picture may be very exact, Louisa,” said Bingley; “but this was\\nall lost upon me. I thought Miss Elizabeth Bennet looked remarkably well\\nwhen she came into the room this morning. Her dirty petticoat quite\\nescaped my notice.”\\n“You observed it, Mr. Darcy, I am sure,” said Miss Bingley; “and I am\\ninclined to think that you would not wish to see your sister make such\\nan exhibition.”\\n“Certainly not.”\\n“To walk three miles, or four miles, or five miles, or whatever it is,\\nabove her ancles in dirt, and alone, quite alone! what could she mean by\\nit? It seems to me to show an abominable sort of conceited independence,\\na most country-town indifference to decorum.”\\n“It shows an affection for her sister that is very pleasing,” said\\nBingley.\\n“I am afraid, Mr. Darcy,” observed Miss Bingley, in a half whisper,\\n“that this adventure has rather affected your admiration of her fine\\neyes.”\\n“Not at all,” he replied: “they were brightened by the exercise.” A\\nshort pause followed this speech, and Mrs. Hurst began again,—\\n“I have an excessive regard for Jane Bennet,—she is really a very sweet\\ngirl,—and I wish with all my heart she were well settled. But with such\\na father and mother, and such low connections, I am afraid there is no\\nchance of it.”\\n“I think I have heard you say that their uncle is an attorney in\\nMeryton?”\\n“Yes; and they have another, who lives somewhere near Cheapside.”\\n“That is capital,” added her sister; and they both laughed heartily.\\n“If they had uncles enough to fill all Cheapside,” cried Bingley, “it\\nwould not make them one jot less agreeable.”\\n“But it must very materially lessen their chance of marrying men of any\\nconsideration in the world,” replied Darcy.\\nTo this speech Bingley made no answer; but his sisters gave it their\\nhearty assent, and indulged their mirth for some time at the expense of\\ntheir dear friend’s vulgar relations.\\nWith a renewal of tenderness, however, they repaired to her room on\\nleaving the dining-parlour, and sat with her till summoned to coffee.\\nShe was still very poorly, and Elizabeth would not quit her at all, till\\nlate in the evening, when she had the comfort of seeing her asleep, and\\nwhen it appeared to her rather right than pleasant that she should go\\ndown stairs herself. On entering the drawing-room, she found the whole\\nparty at loo, and was immediately invited to join them; but suspecting\\nthem to be playing high, she declined it, and making her sister the\\nexcuse, said she would amuse herself, for the short time she could stay\\nbelow, with a book. Mr. Hurst looked at her with astonishment.\\n“Do you prefer reading to cards?” said he; “that is rather singular.”\\n“Miss Eliza Bennet,” said Miss Bingley, “despises cards. She is a great\\nreader, and has no pleasure in anything else.”\\n“I deserve neither such praise nor such censure,” cried Elizabeth; “I\\nam not a great reader, and I have pleasure in many things.”\\n“In nursing your sister I am sure you have pleasure,” said Bingley; “and\\nI hope it will soon be increased by seeing her quite well.”\\nElizabeth thanked him from her heart, and then walked towards a table\\nwhere a few books were lying. He immediately offered to fetch her\\nothers; all that his library afforded.\\n“And I wish my collection were larger for your benefit and my own\\ncredit; but I am an idle fellow; and though I have not many, I have more\\nthan I ever looked into.”\\nElizabeth assured him that she could suit herself perfectly with those\\nin the room.\\n“I am astonished,” said Miss Bingley, “that my father should have left\\nso small a collection of books. What a delightful library you have at\\nPemberley, Mr. Darcy!”\\n“It ought to be good,” he replied: “it has been the work of many\\ngenerations.”\\n“And then you have added so much to it yourself—you are always buying\\nbooks.”\\n“I cannot comprehend the neglect of a family library in such days as\\nthese.”\\n“Neglect! I am sure you neglect nothing that can add to the beauties of\\nthat noble place. Charles, when you build your house, I wish it may be\\nhalf as delightful as Pemberley.”\\n“I wish it may.”\\n“But I would really advise you to make your purchase in that\\nneighbourhood, and take Pemberley for a kind of model. There is not a\\nfiner county in England than Derbyshire.”\\n“With all my heart: I will buy Pemberley itself, if Darcy will sell it.”\\n“I am talking of possibilities, Charles.”\\n“Upon my word, Caroline, I should think it more possible to get\\nPemberley by purchase than by imitation.”\\nElizabeth was so much caught by what passed, as to leave her very little\\nattention for her book; and, soon laying it wholly aside, she drew near\\nthe card-table, and stationed herself between Mr. Bingley and his eldest\\nsister, to observe the game.\\n“Is Miss Darcy much grown since the spring?” said Miss Bingley: “will\\nshe be as tall as I am?”\\n“I think she will. She is now about Miss Elizabeth Bennet’s height, or\\nrather taller.”\\n“How I long to see her again! I never met with anybody who delighted me\\nso much. Such a countenance, such manners, and so extremely accomplished\\nfor her age! Her performance on the pianoforte is exquisite.”\\n“It is amazing to me,” said Bingley, “how young ladies can have patience\\nto be so very accomplished as they all are.”\\n“All young ladies accomplished! My dear Charles, what do you mean?”\\n“Yes, all of them, I think. They all paint tables, cover screens, and\\nnet purses. I scarcely know any one who cannot do all this; and I am\\nsure I never heard a young lady spoken of for the first time, without\\nbeing informed that she was very accomplished.”\\n“Your list of the common extent of accomplishments,” said Darcy, “has\\ntoo much truth. The word is applied to many a woman who deserves it no\\notherwise than by netting a purse or covering a screen; but I am very\\nfar from agreeing with you in your estimation of ladies in general. I\\ncannot boast of knowing more than half-a-dozen in the whole range of my\\nacquaintance that are really accomplished.”\\n“Nor I, I am sure,” said Miss Bingley.\\n“Then,” observed Elizabeth, “you must comprehend a great deal in your\\nidea of an accomplished woman.”\\n“Yes; I do comprehend a great deal in it.”\\n“Oh, certainly,” cried his faithful assistant, “no one can be really\\nesteemed accomplished who does not greatly surpass what is usually met\\nwith. A woman must have a thorough knowledge of music, singing, drawing,\\ndancing, and the modern languages, to deserve the word; and, besides all\\nthis, she must possess a certain something in her air and manner of\\nwalking, the tone of her voice, her address and expressions, or the word\\nwill be but half deserved.”\\n“All this she must possess,” added Darcy; “and to all she must yet add\\nsomething more substantial in the improvement of her mind by extensive\\nreading.”\\n“I am no longer surprised at your knowing only six accomplished women.\\nI rather wonder now at your knowing any.”\\n“Are you so severe upon your own sex as to doubt the possibility of all\\nthis?”\\n“I never saw such a woman. I never saw such capacity, and taste, and\\napplication, and elegance, as you describe, united.”\\nMrs. Hurst and Miss Bingley both cried out against the injustice of her\\nimplied doubt, and were both protesting that they knew many women who\\nanswered this description, when Mr. Hurst called them to order, with\\nbitter complaints of their inattention to what was going forward. As all\\nconversation was thereby at an end, Elizabeth soon afterwards left the\\nroom.\\n“Eliza Bennet,” said Miss Bingley, when the door was closed on her, “is\\none of those young ladies who seek to recommend themselves to the other\\nsex by undervaluing their own; and with many men, I daresay, it\\nsucceeds; but, in my opinion, it is a paltry device, a very mean art.”\\n“Undoubtedly,” replied Darcy, to whom this remark was chiefly addressed,\\n“there is meanness in all the arts which ladies sometimes condescend\\nto employ for captivation. Whatever bears affinity to cunning is\\ndespicable.”\\nMiss Bingley was not so entirely satisfied with this reply as to\\ncontinue the subject.\\nElizabeth joined them again only to say that her sister was worse, and\\nthat she could not leave her. Bingley urged Mr. Jones’s being sent for\\nimmediately; while his sisters, convinced that no country advice could\\nbe of any service, recommended an express to town for one of the most\\neminent physicians. This she would not hear of; but she was not so\\nunwilling to comply with their brother’s proposal; and it was settled\\nthat Mr. Jones should be sent for early in the morning, if Miss Bennet\\nwere not decidedly better. Bingley was quite uncomfortable; his sisters\\ndeclared that they were miserable. They solaced their wretchedness,\\nhowever, by duets after supper; while he could find no better relief to\\nhis feelings than by giving his housekeeper directions that every\\npossible attention might be paid to the sick lady and her sister.',\n",
       " '\\n\\n[Image unavailable.]\\n\\n\\nMrs Bennet and her two youngest girls.\\n\\n\\n\\nCHAPTER IX.\\n\\nELIZABETH passed the chief of the night in her sister’s room, and in the\\nmorning had the pleasure of being able to send a tolerable answer to the\\ninquiries which she very early received from Mr. Bingley by a housemaid,\\nand some time afterwards from the two elegant ladies who waited on his\\nsisters. In spite of this amendment, however, she requested to have a\\nnote sent to Longbourn, desiring her mother to visit Jane, and form her\\nown judgment of her situation. The note was immediately despatched, and\\nits contents as quickly complied with. Mrs. Bennet, accompanied by her\\ntwo youngest girls, reached Netherfield soon after the family breakfast.\\nHad she found Jane in any apparent danger, Mrs. Bennet would have been\\nvery miserable; but being satisfied on seeing her that her illness was\\nnot alarming, she had no wish of her recovering immediately, as her\\nrestoration to health would probably remove her from Netherfield. She\\nwould not listen, therefore, to her daughter’s proposal of being carried\\nhome; neither did the apothecary, who arrived about the same time, think\\nit at all advisable. After sitting a little while with Jane, on Miss\\nBingley’s appearance and invitation, the mother and three daughters all\\nattended her into the breakfast parlour. Bingley met them with hopes\\nthat Mrs. Bennet had not found Miss Bennet worse than she expected.\\n“Indeed I have, sir,” was her answer. “She is a great deal too ill to be\\nmoved. Mr. Jones says we must not think of moving her. We must trespass\\na little longer on your kindness.”\\n“Removed!” cried Bingley. “It must not be thought of. My sister, I am\\nsure, will not hear of her removal.”\\n“You may depend upon it, madam,” said Miss Bingley, with cold civility,\\n“that Miss Bennet shall receive every possible attention while she\\nremains with us.”\\nMrs. Bennet was profuse in her acknowledgments.\\n“I am sure,” she added, “if it was not for such good friends, I do not\\nknow what would become of her, for she is very ill indeed, and suffers a\\nvast deal, though with the greatest patience in the world, which is\\nalways the way with her, for she has, without exception, the sweetest\\ntemper I ever met with. I often tell my other girls they are nothing to\\nher. You have a sweet room here, Mr. Bingley, and a charming prospect\\nover that gravel walk. I do not know a place in the country that is\\nequal to Netherfield. You will not think of quitting it in a hurry, I\\nhope, though you have but a short lease.”\\n“Whatever I do is done in a hurry,” replied he; “and therefore if I\\nshould resolve to quit Netherfield, I should probably be off in five\\nminutes. At present, however, I consider myself as quite fixed here.”\\n“That is exactly what I should have supposed of you,” said Elizabeth.\\n“You begin to comprehend me, do you?” cried he, turning towards her.\\n“Oh yes—I understand you perfectly.”\\n“I wish I might take this for a compliment; but to be so easily seen\\nthrough, I am afraid, is pitiful.”\\n“That is as it happens. It does not necessarily follow that a deep,\\nintricate character is more or less estimable than such a one as yours.”\\n“Lizzy,” cried her mother, “remember where you are, and do not run on in\\nthe wild manner that you are suffered to do at home.”\\n“I did not know before,” continued Bingley, immediately, “that you were\\na studier of character. It must be an amusing study.”\\n“Yes; but intricate characters are the most amusing. They have at\\nleast that advantage.”\\n“The country,” said Darcy, “can in general supply but few subjects for\\nsuch a study. In a country neighbourhood you move in a very confined and\\nunvarying society.”\\n“But people themselves alter so much, that there is something new to be\\nobserved in them for ever.”\\n“Yes, indeed,” cried Mrs. Bennet, offended by his manner of mentioning a\\ncountry neighbourhood. “I assure you there is quite as much of that\\ngoing on in the country as in town.”\\nEverybody was surprised; and Darcy, after looking at her for a moment,\\nturned silently away. Mrs. Bennet, who fancied she had gained a complete\\nvictory over him, continued her triumph,—\\n“I cannot see that London has any great advantage over the country, for\\nmy part, except the shops and public places. The country is a vast deal\\npleasanter, is not it, Mr. Bingley?”\\n“When I am in the country,” he replied, “I never wish to leave it; and\\nwhen I am in town, it is pretty much the same. They have each their\\nadvantages, and I can be equally happy in either.”\\n“Ay, that is because you have the right disposition. But that\\ngentleman,” looking at Darcy, “seemed to think the country was nothing\\nat all.”\\n“Indeed, mamma, you are mistaken,” said Elizabeth, blushing for her\\nmother. “You quite mistook Mr. Darcy. He only meant that there was not\\nsuch a variety of people to be met with in the country as in town, which\\nyou must acknowledge to be true.”\\n“Certainly, my dear, nobody said there were; but as to not meeting with\\nmany people in this neighbourhood, I believe there are few\\nneighbourhoods larger. I know we dine with four-and-twenty families.”\\nNothing but concern for Elizabeth could enable Bingley to keep his\\ncountenance. His sister was less delicate, and directed her eye towards\\nMr. Darcy with a very expressive smile. Elizabeth, for the sake of\\nsaying something that might turn her mother’s thoughts, now asked her if\\nCharlotte Lucas had been at Longbourn since her coming away.\\n“Yes, she called yesterday with her father. What an agreeable man Sir\\nWilliam is, Mr. Bingley—is not he? so much the man of fashion! so\\ngenteel and so easy! He has always something to say to everybody. That\\nis my idea of good breeding; and those persons who fancy themselves very\\nimportant and never open their mouths quite mistake the matter.”\\n“Did Charlotte dine with you?”\\n“No, she would go home. I fancy she was wanted about the mince-pies. For\\nmy part, Mr. Bingley, I always keep servants that can do their own\\nwork; my daughters are brought up differently. But everybody is to\\njudge for themselves, and the Lucases are a very good sort of girls, I\\nassure you. It is a pity they are not handsome! Not that I think\\nCharlotte so very plain; but then she is our particular friend.”\\n“She seems a very pleasant young woman,” said Bingley.\\n“Oh dear, yes; but you must own she is very plain. Lady Lucas herself\\nhas often said so, and envied me Jane’s beauty. I do not like to boast\\nof my own child; but to be sure, Jane—one does not often see anybody\\nbetter looking. It is what everybody says. I do not trust my own\\npartiality. When she was only fifteen there was a gentleman at my\\nbrother Gardiner’s in town so much in love with her, that my\\nsister-in-law was sure he would make her an offer before we came away.\\nBut, however, he did not. Perhaps he thought her too young. However, he\\nwrote some verses on her, and very pretty they were.”\\n“And so ended his affection,” said Elizabeth, impatiently. “There has\\nbeen many a one, I fancy, overcome in the same way. I wonder who first\\ndiscovered the efficacy of poetry in driving away love!”\\n“I have been used to consider poetry as the food of love,” said Darcy.\\n“Of a fine, stout, healthy love it may. Everything nourishes what is\\nstrong already. But if it be only a slight, thin sort of inclination, I\\nam convinced that one good sonnet will starve it entirely away.”\\nDarcy only smiled; and the general pause which ensued made Elizabeth\\ntremble lest her mother should be exposing herself again. She longed to\\nspeak, but could think of nothing to say; and after a short silence Mrs.\\nBennet began repeating her thanks to Mr. Bingley for his kindness to\\nJane, with an apology for troubling him also with Lizzy. Mr. Bingley was\\nunaffectedly civil in his answer, and forced his younger sister to be\\ncivil also, and say what the occasion required. She performed her part,\\nindeed, without much graciousness, but Mrs. Bennet was satisfied, and\\nsoon afterwards ordered her carriage. Upon this signal, the youngest of\\nher daughters put herself forward. The two girls had been whispering to\\neach other during the whole visit; and the result of it was, that the\\nyoungest should tax Mr. Bingley with having promised on his first coming\\ninto the country to give a ball at Netherfield.\\nLydia was a stout, well-grown girl of fifteen, with a fine complexion\\nand good-humoured countenance; a favourite with her mother, whose\\naffection had brought her into public at an early age. She had high\\nanimal spirits, and a sort of natural self-consequence, which the\\nattentions of the officers, to whom her uncle’s good dinners and her\\nown easy manners recommended her, had increased into assurance. She was\\nvery equal, therefore, to address Mr. Bingley on the subject of the\\nball, and abruptly reminded him of his promise; adding, that it would be\\nthe most shameful thing in the world if he did not keep it. His answer\\nto this sudden attack was delightful to her mother’s ear.\\n“I am perfectly ready, I assure you, to keep my engagement; and, when\\nyour sister is recovered, you shall, if you please, name the very day of\\nthe ball. But you would not wish to be dancing while she is ill?”\\nLydia declared herself satisfied. “Oh yes—it would be much better to\\nwait till Jane was well; and by that time, most likely, Captain Carter\\nwould be at Meryton again. And when you have given your ball,” she\\nadded, “I shall insist on their giving one also. I shall tell Colonel\\nForster it will be quite a shame if he does not.”\\nMrs. Bennet and her daughters then departed, and Elizabeth returned\\ninstantly to Jane, leaving her own and her relations’ behaviour to the\\nremarks of the two ladies and Mr. Darcy; the latter of whom, however,\\ncould not be prevailed on to join in their censure of her, in spite of\\nall Miss Bingley’s witticisms on fine eyes.',\n",
       " '\\n\\n\\n\\nCHAPTER X.\\n\\nTHE day passed much as the day before had done. Mrs. Hurst and Miss\\nBingley had spent some hours of the morning with the invalid, who\\ncontinued, though slowly, to mend; and, in the evening, Elizabeth joined\\ntheir party in the drawing-room. The loo table, however, did not appear.\\nMr. Darcy was writing, and Miss Bingley, seated near him, was watching\\nthe progress of his letter, and repeatedly calling off his attention by\\nmessages to his sister. Mr. Hurst and Mr. Bingley were at piquet, and\\nMrs. Hurst was observing their game.\\nElizabeth took up some needlework, and was sufficiently amused in\\nattending to what passed between Darcy and his companion. The perpetual\\ncommendations of the lady either on his hand-writing, or on the evenness\\nof his lines, or on the length of his letter, with the perfect unconcern\\nwith which her praises were received, formed a curious dialogue, and was\\nexactly in unison with her opinion of each.\\n“How delighted Miss Darcy will be to receive such a letter!”\\nHe made no answer.\\n“You write uncommonly fast.”\\n“You are mistaken. I write rather slowly.”\\n“How many letters you must have occasion to write in the course of a\\nyear! Letters of business, too! How odious I should think them!”\\n“It is fortunate, then, that they fall to my lot instead of to yours.”\\n“Pray tell your sister that I long to see her.”\\n“I have already told her so once, by your desire.”\\n“I am afraid you do not like your pen. Let me mend it for you. I mend\\npens remarkably well.”\\n“Thank you—but I always mend my own.”\\n“How can you contrive to write so even?”\\nHe was silent.\\n“Tell your sister I am delighted to hear of her improvement on the harp,\\nand pray let her know that I am quite in raptures with her beautiful\\nlittle design for a table, and I think it infinitely superior to Miss\\nGrantley’s.”\\n“Will you give me leave to defer your raptures till I write again? At\\npresent I have not room to do them justice.”\\n“Oh, it is of no consequence. I shall see her in January. But do you\\nalways write such charming long letters to her, Mr. Darcy?”\\n“They are generally long; but whether always charming, it is not for me\\nto determine.”\\n“It is a rule with me, that a person who can write a long letter with\\nease cannot write ill.”\\n“That will not do for a compliment to Darcy, Caroline,” cried her\\nbrother, “because he does not write with ease. He studies too much\\nfor words of four syllables. Do not you, Darcy?”\\n“My style of writing is very different from yours.”\\n“Oh,” cried Miss Bingley, “Charles writes in the most careless way\\nimaginable. He leaves out half his words, and blots the rest.”\\n“My ideas flow so rapidly that I have not time to express them; by which\\nmeans my letters sometimes convey no ideas at all to my correspondents.”\\n“Your humility, Mr. Bingley,” said Elizabeth, “must disarm reproof.”\\n“Nothing is more deceitful,” said Darcy, “than the appearance of\\nhumility. It is often only carelessness of opinion, and sometimes an\\nindirect boast.”\\n“And which of the two do you call my little recent piece of modesty?”\\n“The indirect boast; for you are really proud of your defects in\\nwriting, because you consider them as proceeding from a rapidity of\\nthought and carelessness of execution, which, if not estimable, you\\nthink at least highly interesting. The power of doing anything with\\nquickness is always much prized by the possessor, and often without any\\nattention to the imperfection of the performance. When you told Mrs.\\nBennet this morning, that if you ever resolved on quitting Netherfield\\nyou should be gone in five minutes, you meant it to be a sort of\\npanegyric, of compliment to yourself; and yet what is there so very\\nlaudable in a precipitance which must leave very necessary business\\nundone, and can be of no real advantage to yourself or anyone else?”\\n“Nay,” cried Bingley, “this is too much, to remember at night all the\\nfoolish things that were said in the morning. And yet, upon my honour, I\\nbelieved what I said of myself to be true, and I believe it at this\\nmoment. At least, therefore, I did not assume the character of needless\\nprecipitance merely to show off before the ladies.”\\n“I daresay you believed it; but I am by no means convinced that you\\nwould be gone with such celerity. Your conduct would be quite as\\ndependent on chance as that of any man I know; and if, as you were\\nmounting your horse, a friend were to say, ‘Bingley, you had better stay\\ntill next week,’ you would probably do it—you would probably not\\ngo—and, at another word, might stay a month.”\\n“You have only proved by this,” cried Elizabeth, “that Mr. Bingley did\\nnot do justice to his own disposition. You have shown him off now much\\nmore than he did himself.”\\n“I am exceedingly gratified,” said Bingley, “by your converting what my\\nfriend says into a compliment on the sweetness of my temper. But I am\\nafraid you are giving it a turn which that gentleman did by no means\\nintend; for he would certainly think the better of me if, under such a\\ncircumstance, I were to give a flat denial, and ride off as fast as I\\ncould.”\\n“Would Mr. Darcy then consider the rashness of your original intention\\nas atoned for by your obstinacy in adhering to it?”\\n“Upon my word, I cannot exactly explain the matter—Darcy must speak for\\nhimself.”\\n“You expect me to account for opinions which you choose to call mine,\\nbut which I have never acknowledged. Allowing the case, however, to\\nstand according to your representation, you must remember, Miss Bennet,\\nthat the friend who is supposed to desire his return to the house, and\\nthe delay of his plan, has merely desired it, asked it without offering\\none argument in favour of its propriety.”\\n“To yield readily—easily—to the persuasion of a friend is no merit\\nwith you.”\\n“To yield without conviction is no compliment to the understanding of\\neither.”\\n“You appear to me, Mr. Darcy, to allow nothing for the influence of\\nfriendship and affection. A regard for the requester would often make\\none readily yield to a request, without waiting for arguments to reason\\none into it. I am not particularly speaking of such a case as you have\\nsupposed about Mr. Bingley. We may as well wait, perhaps, till the\\ncircumstance occurs, before we discuss the discretion of his behaviour\\nthereupon. But in general and ordinary cases, between friend and friend,\\nwhere one of them is desired by the other to change a resolution of no\\nvery great moment, should you think ill of that person for complying\\nwith the desire, without waiting to be argued into it?”\\n“Will it not be advisable, before we proceed on this subject, to arrange\\nwith rather more precision the degree of importance which is to\\nappertain to this request, as well as the degree of intimacy subsisting\\nbetween the parties?”\\n“By all means,” cried Bingley; “let us hear all the particulars, not\\nforgetting their comparative height and size, for that will have more\\nweight in the argument, Miss Bennet, than you may be aware of. I assure\\nyou that if Darcy were not such a great tall fellow, in comparison with\\nmyself, I should not pay him half so much deference. I declare I do not\\nknow a more awful object than Darcy on particular occasions, and in\\nparticular places; at his own house especially, and of a Sunday evening,\\nwhen he has nothing to do.”\\nMr. Darcy smiled; but Elizabeth thought she could perceive that he was\\nrather offended, and therefore checked her laugh. Miss Bingley warmly\\nresented the indignity he had received, in an expostulation with her\\nbrother for talking such nonsense.\\n“I see your design, Bingley,” said his friend. “You dislike an argument,\\nand want to silence this.”\\n“Perhaps I do. Arguments are too much like disputes. If you and Miss\\nBennet will defer yours till I am out of the room, I shall be very\\nthankful; and then you may say whatever you like of me.”\\n“What you ask,” said Elizabeth, “is no sacrifice on my side; and Mr.\\nDarcy had much better finish his letter.”\\nMr. Darcy took her advice, and did finish his letter.\\nWhen that business was over, he applied to Miss Bingley and Elizabeth\\nfor the indulgence of some music. Miss Bingley moved with alacrity to\\nthe pianoforte, and after a polite request that Elizabeth would lead the\\nway, which the other as politely and more earnestly negatived, she\\nseated herself.\\nMrs. Hurst sang with her sister; and while they were thus employed,\\nElizabeth could not help observing, as she turned over some music-books\\nthat lay on the instrument, how frequently Mr. Darcy’s eyes were fixed\\non her. She hardly knew how to suppose that she could be an object of\\nadmiration to so great a man, and yet that he should look at her because\\nhe disliked her was still more strange. She could only imagine, however,\\nat last, that she drew his notice because there was something about her\\nmore wrong and reprehensible, according to his ideas of right, than in\\nany other person present. The supposition did not pain her. She liked\\nhim too little to care for his approbation.\\nAfter playing some Italian songs, Miss Bingley varied the charm by a\\nlively Scotch air; and soon afterwards Mr. Darcy, drawing near\\nElizabeth, said to her,—\\n“Do you not feel a great inclination, Miss Bennet, to seize such an\\nopportunity of dancing a reel?”\\nShe smiled, but made no answer. He repeated the question, with some\\nsurprise at her silence.\\n“Oh,” said she, “I heard you before; but I could not immediately\\ndetermine what to say in reply. You wanted me, I know, to say ‘Yes,’\\nthat you might have the pleasure of despising my taste; but I always\\ndelight in overthrowing those kind of schemes, and cheating a person of\\ntheir premeditated contempt. I have, therefore, made up my mind to tell\\nyou that I do not want to dance a reel at all; and now despise me if you\\ndare.”\\n“Indeed I do not dare.”\\nElizabeth, having rather expected to affront him, was amazed at his\\ngallantry; but there was a mixture of sweetness and archness in her\\nmanner which made it difficult for her to affront anybody, and Darcy had\\nnever been so bewitched by any woman as he was by her. He really\\nbelieved that, were it not for the inferiority of her connections, he\\nshould be in some danger.\\nMiss Bingley saw, or suspected, enough to be jealous; and her great\\nanxiety for the recovery of her dear friend Jane received some\\nassistance from her desire of getting rid of Elizabeth.\\nShe often tried to provoke Darcy into disliking her guest, by talking of\\ntheir supposed marriage, and planning his happiness in such an alliance.\\n“I hope,” said she, as they were walking together in the shrubbery the\\nnext day, “you will give your mother-in-law a few hints, when this\\ndesirable event takes place, as to the advantage of holding her tongue;\\nand if you can compass it, to cure the younger girls of running after\\nthe officers. And, if I may mention so delicate a subject, endeavour to\\ncheck that little something, bordering on conceit and impertinence,\\nwhich your lady possesses.”',\n",
       " '\\n\\n']"
      ]
     },
     "execution_count": 50,
     "metadata": {},
     "output_type": "execute_result"
    }
   ],
   "source": [
    "out['contents'][\"2\"]"
   ]
  },
  {
   "cell_type": "code",
   "execution_count": null,
   "metadata": {},
   "outputs": [],
   "source": [
    "from bs4 import BeautifulSoup\n",
    "\n",
    "def gettextfromhtml(html):\n",
    "\tsoup = BeautifulSoup(html, 'html.parser')\n",
    "\ttext = soup.get_text()\n",
    "\treturn text"
   ]
  },
  {
   "cell_type": "code",
   "execution_count": 3,
   "metadata": {},
   "outputs": [
    {
     "name": "stdout",
     "output_type": "stream",
     "text": [
      "1\n",
      "Software Testing with Large Language Models:\n",
      "Survey, Landscape, and Vision\n",
      "Junjie Wang, Yuchao Huang, Chunyang Chen, Zhe Liu, Song Wang, Qing Wang\n",
      "Abstract—Pre-trained large language models (LLMs) have recently emerged as a breakthrough technology in natural language\n",
      "processingandartificialintelligence,withtheabilitytohandlelarge-scaledatasetsandexhibitremarkableperformanceacrossawide\n",
      "rangeoftasks.Meanwhile,softwaretestingisacrucialundertakingthatservesasacornerstoneforensuringthequalityandreliability\n",
      "ofsoftwareproducts.Asthescopeandcomplexityofsoftwaresystemscontinuetogrow,theneedformoreeffectivesoftwaretesting\n",
      "techniquesbecomesincreasinglyurgent,makingitanarearipeforinnovativeapproachessuchastheuseofLLMs.Thispaperprovides\n",
      "acomprehensivereviewoftheutilizationofLLMsinsoftwaretesting.Itanalyzes102relevantstudiesthathaveusedLLMsforsoftware\n",
      "testing,fromboththesoftwaretestingandLLMsperspectives.Thepaperpresentsadetaileddiscussionofthesoftwaretestingtasksfor\n",
      "whichLLMsarecommonlyused,amongwhichtestcasepreparationandprogramrepairarethemostrepresentative.Italsoanalyzes\n",
      "thecommonlyusedLLMs,thetypesofpromptengineeringthatareemployed,aswellastheaccompaniedtechniqueswiththeseLLMs.\n",
      "Italsosummarizesthekeychallengesandpotentialopportunitiesinthisdirection.Thisworkcanserveasaroadmapforfutureresearch\n",
      "in this area, highlighting potential avenues for exploration, and identifying gaps in our current understanding of the use of LLMs in\n",
      "softwaretesting.\n",
      "IndexTerms—Pre-trainedLargeLanguageModel,SoftwareTesting,LLM,GPT\n",
      "✦\n",
      "1 INTRODUCTION While the field of software testing has gained signifi-\n",
      "cantpopularity,thereremaindozensofchallengesthathave\n",
      "Software testing is a crucial undertaking that serves as\n",
      "notbeeneffectivelyaddressed.Forexample,onesuchchal-\n",
      "a cornerstone for ensuring the quality and reliability of\n",
      "lengeisautomatedunittestcasegeneration.Althoughvar-\n",
      "softwareproducts.Withouttherigorousprocessofsoftware\n",
      "iousapproaches,includingsearch-based[3],[4],constraint-\n",
      "testing, software enterprises would be reluctant to release\n",
      "based[5]orrandom-based[6]techniquestogenerateasuite\n",
      "their products into the market, knowing the potential\n",
      "of unit tests, the coverage and the meaningfulness of the\n",
      "consequences of delivering flawed software to end-users.\n",
      "generated tests are still far from satisfactory [7], [8]. Simi-\n",
      "Byconductingthoroughandmeticuloustestingprocedures,\n",
      "larly,whenitcomestomobileGUItesting,existingstudies\n",
      "softwareenterprisescanminimizetheoccurrenceofcritical\n",
      "with random-/rule-based methods [9], [10], model-based\n",
      "software failures, usability issues, or security breaches\n",
      "methods[11],[12],andlearning-basedmethods[13]areun-\n",
      "that could potentially lead to financial losses or jeopardize\n",
      "able to understand the semantic information of the GUI\n",
      "user trust. Additionally, software testing helps to reduce\n",
      "page and often fall short in achieving comprehensive cov-\n",
      "maintenancecostsbyidentifyingandresolvingissuesearly\n",
      "erage[14],[15].Consideringtheselimitations,numerousre-\n",
      "in the development lifecycle, preventing more significant\n",
      "searcheffortsarecurrentlyunderwaytoexploreinnovative\n",
      "complicationsdowntheline[1],[2].\n",
      "techniquesthatcanenhancetheefficacyofsoftwaretesting\n",
      "The significance of software testing has garnered sub-\n",
      "tasks, among which large language models are the most\n",
      "stantial attention within the research and industrial com-\n",
      "promisingones.\n",
      "munities. In the field of software engineering, it stands as\n",
      "an immensely popular and vibrant research area. One can Large language models (LLMs) such as T5 and GPT-3\n",
      "observe the undeniable prominence of software testing by haverevolutionizedthefieldofnaturallanguageprocessing\n",
      "simply examining the landscape of conferences and sym- (NLP)andartificialintelligence(AI).Thesemodels,initially\n",
      "posiums focused on software engineering. Amongst these pre-trainedonextensivecorpora,haveexhibitedremarkable\n",
      "events,topicsrelatedtosoftwaretestingconsistentlydomi- performance across a wide range of NLP tasks including\n",
      "natethesubmissionnumbersandarefrequentlyselectedfor question-answering, machine translation, and text genera-\n",
      "publication. tion [16]–[19]. In recent years, there has been a significant\n",
      "advancementinLLMswiththeemergenceofmodelscapa-\n",
      "ble of handling even larger-scale datasets. This expansion\n",
      "● J. Wang,Y. Huang, Z. Liu, Q. Wang are with State Key Laboratory of\n",
      "IntelligentGame,InstituteofSoftwareChineseAcademyofSciences,and in model size has not only led to improved performance\n",
      "UniversityofChineseAcademyofSciences,Beijing,China.J.Wangand but also opened up new possibilities for applying LLMs\n",
      "Q.Wangarecorrespondingauthors.\n",
      "as Artificial General Intelligence. Among these advanced\n",
      "E-mail:{junjie,yuchao2019,liuzhe2020,wq}@iscas.ac.cn\n",
      "● C.CheniswithMonashUniversity,Melbourne,Australia LLMs, models like ChatGPT1 and LLaMA2 boast billions\n",
      "E-mail:chunyang.chen@monash.edu\n",
      "● S.WangiswithYorkUniversity,Toronto,Canada.\n",
      "1.https://openai.com/blog/chatgpt\n",
      "E-mail:wangsong@yorku.ca\n",
      "2.https://ai.meta.com/blog/large-language-model-llama-meta-ai/\n",
      "4202\n",
      "raM\n",
      "4\n",
      "]ES.sc[\n",
      "3v12270.7032:viXra\n"
     ]
    }
   ],
   "source": [
    "import pdfplumber\n",
    "\n",
    "with pdfplumber.open(\"temp/llmpaper.pdf\") as pdf:\n",
    "    first_page = pdf.pages[0]\n",
    "    print(first_page.extract_text())"
   ]
  },
  {
   "cell_type": "code",
   "execution_count": 4,
   "metadata": {},
   "outputs": [
    {
     "name": "stdout",
     "output_type": "stream",
     "text": [
      "31\n",
      "1\n",
      "Software Testing with Large Language Models:\n",
      "Survey, Landscape, and Vision\n",
      "Junjie Wang, Yuchao Huang, Chunyang Chen, Zhe Liu, Song Wang, Qing Wang\n",
      "Abstract—Pre-trained large language models (LLMs) have recently emerged as a breakthrough technology in natural language\n",
      "processing and artificial intelligence, with the ability to handle large-scale datasets and exhibit remarkable performance across a wide\n",
      "range of tasks. Meanwhile, software testing is a crucial undertaking that serves as a cornerstone for ensuring the quality and reliability\n",
      "of software products. As the scope and complexity of software systems continue to grow, the need for more effective software testing\n",
      "techniques becomes increasingly urgent, making it an area ripe for innovative approaches such as the use of LLMs. This paper provides\n",
      "a comprehensive review of the utilization of LLMs in software testing. It analyzes 102 relevant studies that have used LLMs for software\n",
      "testing, from both the software testing and LLMs perspectives. The paper presents a detailed discussion of the software testing tasks for\n",
      "which LLMs are commonly used, among which test case preparation and program repair are the most representative. It also analyzes\n",
      "the commonly used LLMs, the types of prompt engineering that are employed, as well as the accompanied techniques with these LLMs.\n",
      "It also summarizes the key challenges and potential opportunities in this direction. This work can serve as a roadmap for future research\n",
      "in this area, highlighting potential avenues for exploration, and identifying gaps in our current understanding of the use of LLMs in\n",
      "software testing.\n",
      "Index Terms—Pre-trained Large Language Model, Software Testing, LLM, GPT\n",
      "✦\n",
      "1 I NTRODUCTION\n",
      "Software testing is a crucial undertaking that serves as\n",
      "a cornerstone for ensuring the quality and reliability of\n",
      "software products. Without the rigorous process of software\n",
      "testing, software enterprises would be reluctant to release\n",
      "their products into the market, knowing the potential\n",
      "consequences of delivering flawed software to end-users.\n",
      "By conducting thorough and meticulous testing procedures,\n",
      "software enterprises can minimize the occurrence of critical\n",
      "software failures, usability issues, or security breaches\n",
      "that could potentially lead to financial losses or jeopardize\n",
      "user trust. Additionally, software testing helps to reduce\n",
      "maintenance costs by identifying and resolving issues early\n",
      "in the development lifecycle, preventing more significant\n",
      "complications down the line [1], [2].\n",
      "The significance of software testing has garnered sub-\n",
      "stantial attention within the research and industrial com-\n",
      "munities. In the field of software engineering, it stands as\n",
      "an immensely popular and vibrant research area. One can\n",
      "observe the undeniable prominence of software testing by\n",
      "simply examining the landscape of conferences and sym-\n",
      "posiums focused on software engineering. Amongst these\n",
      "events, topics related to software testing consistently domi-\n",
      "nate the submission numbers and are frequently selected for\n",
      "publication.\n",
      "● J. Wang,Y. Huang, Z. Liu, Q. Wang are with State Key Laboratory of\n",
      "Intelligent Game, Institute of Software Chinese Academy of Sciences, and\n",
      "University of Chinese Academy of Sciences, Beijing, China. J. Wang and\n",
      "Q. Wang are corresponding authors.\n",
      "E-mail: {junjie, yuchao2019, liuzhe2020, wq}@iscas.ac.cn\n",
      "● C. Chen is with Monash University, Melbourne, Australia\n",
      "E-mail: chunyang.chen@monash.edu\n",
      "● S. Wang is with York University, Toronto, Canada.\n",
      "E-mail: wangsong@yorku.ca\n",
      "While the field of software testing has gained signifi-\n",
      "cant popularity, there remain dozens of challenges that have\n",
      "not been effectively addressed. For example, one such chal-\n",
      "lenge is automated unit test case generation. Although var-\n",
      "ious approaches, including search-based [3], [4], constraint-\n",
      "based [5] or random-based [6] techniques to generate a suite\n",
      "of unit tests, the coverage and the meaningfulness of the\n",
      "generated tests are still far from satisfactory [7], [8]. Simi-\n",
      "larly, when it comes to mobile GUI testing, existing studies\n",
      "with random-/rule-based methods [9], [10], model-based\n",
      "methods [11], [12], and learning-based methods [13] are un-\n",
      "able to understand the semantic information of the GUI\n",
      "page and often fall short in achieving comprehensive cov-\n",
      "erage [14], [15]. Considering these limitations, numerous re-\n",
      "search efforts are currently underway to explore innovative\n",
      "techniques that can enhance the efficacy of software testing\n",
      "tasks, among which large language models are the most\n",
      "promising ones.\n",
      "Large language models (LLMs) such as T5 and GPT-3\n",
      "have revolutionized the field of natural language processing\n",
      "(NLP) and artificial intelligence (AI). These models, initially\n",
      "pre-trained on extensive corpora, have exhibited remarkable\n",
      "performance across a wide range of NLP tasks including\n",
      "question-answering, machine translation, and text genera-\n",
      "tion [16]–[19]. In recent years, there has been a significant\n",
      "advancement in LLMs with the emergence of models capa-\n",
      "ble of handling even larger-scale datasets. This expansion\n",
      "in model size has not only led to improved performance\n",
      "but also opened up new possibilities for applying LLMs\n",
      "as Artificial General Intelligence. Among these advanced\n",
      "LLMs, models like ChatGPT 1 and LLaMA 2 boast billions\n",
      "1. https://openai.com/blog/chatgpt\n",
      "2. https://ai.meta.com/blog/large-language-model-llama-meta-ai/\n",
      "arXiv:2307.07221v3  [cs.SE]  4 Mar 2024\n"
     ]
    }
   ],
   "source": [
    "# importing required modules\n",
    "from pypdf import PdfReader\n",
    "\n",
    "# creating a pdf reader object\n",
    "reader = PdfReader('temp/llmpaper.pdf')\n",
    "\n",
    "# printing number of pages in pdf file\n",
    "print(len(reader.pages))\n",
    "\n",
    "# getting a specific page from the pdf file\n",
    "page = reader.pages[0]\n",
    "\n",
    "# extracting text from page\n",
    "text = page.extract_text()\n",
    "print(text)"
   ]
  }
 ],
 "metadata": {
  "kernelspec": {
   "display_name": "base",
   "language": "python",
   "name": "python3"
  },
  "language_info": {
   "codemirror_mode": {
    "name": "ipython",
    "version": 3
   },
   "file_extension": ".py",
   "mimetype": "text/x-python",
   "name": "python",
   "nbconvert_exporter": "python",
   "pygments_lexer": "ipython3",
   "version": "3.10.9"
  }
 },
 "nbformat": 4,
 "nbformat_minor": 2
}
