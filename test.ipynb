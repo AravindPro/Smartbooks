{
 "cells": [
  {
   "cell_type": "code",
   "execution_count": 22,
   "metadata": {},
   "outputs": [],
   "source": [
    "import json\n",
    "import pandas as pd\n",
    "\n",
    "with open('StructuredBooks/neuromancer.json') as f:\n",
    "\tdata = json.load(f)"
   ]
  },
  {
   "cell_type": "code",
   "execution_count": null,
   "metadata": {},
   "outputs": [],
   "source": [
    "def processed(lst):\n",
    "\tnewlst = []\n",
    "\tctext = \"\"\n",
    "\tfor txt in lst:\n",
    "\t\tctext += txt\n",
    "\t\t\t\n",
    "\t\tif ctext!=\"\" and ctext[-1] == '.':\n",
    "\t\t\tnewlst.append(ctext)\n",
    "\t\t\tctext = \"\"\n",
    "\tif ctext != \"\":\n",
    "\t\tnewlst.append(ctext)\n",
    "\treturn newlst\n",
    "\n",
    "new_data = {}\n",
    "new_data['contents'] = {}\n",
    "for key in data['contents']:\n",
    "\tnew_data['contents'][key] = processed(data['contents'][key])\n",
    "\t"
   ]
  },
  {
   "cell_type": "code",
   "execution_count": 26,
   "metadata": {},
   "outputs": [
    {
     "name": "stdout",
     "output_type": "stream",
     "text": [
      "The sky above the port was the color of television, tuned\n",
      "to a dead channel.\n",
      "\"It's not like I'm using,\" Case heard someone say, as he\n",
      "shouldered his way through the crowd around the door of the\n",
      "Chat. \"It's like my body's developed this massive drug defi-\n",
      "ciency.\" It was a Sprawl voice and a Sprawl joke. The Chatsubo\n",
      "was a bar for professional expatriates; you could drink there\n",
      "for a week and never hear two words in Japanese.\n",
      "Ratz was tending bar, his prosthetic arm jerking monoto-\n",
      "nously as he filled a tray of glasses with draft Kirin. He saw\n",
      "Case and smiled, his teeth a web work of East European steel\n",
      "and brown decay. Case found a place at the bar, between the\n",
      "unlikely tan on one of Lonny Zone's whores and the crisp naval\n",
      "uniform of a tall African whose cheekbones were ridged with\n",
      "precise rows of tribal scars. \"Wage was in here early, with two\n",
      "Joe boys,\" Ratz said, shoving a draft across the bar with his\n",
      "good hand. \"Maybe some business with you, Case?\"\n",
      "Case shrugged. The girl to his right giggled and nudged\n",
      "him.\n",
      "The bartender's smile widened. His ugliness was the stuff\n",
      "of legend. In an age of affordable beauty, there was something\n",
      "heraldic about his lack of it. The antique arm whined as he\n",
      "reached for another mug. It was a Russian military prosthesis,\n",
      "a seven-function force-feedback manipulator, cased in grubby\n",
      "pink plastic. \"You are too much the artiste, Herr Case.\" Ratz\n",
      "grunted; the sound served him as laughter. He scratched his\n",
      "overhang of white-shirted belly with the pink claw. \"You are\n",
      "the artiste of the slightly funny deal.\"\n",
      "\"Sure,\" Case said, and sipped his beer. \"Somebody's gotta\n",
      "be funny around here. Sure the fuck isn't you.\"\n",
      "The whore's giggle went up an octave.\n",
      "\"Isn't you either, sister. So you vanish, okay? Zone, he's\n",
      "a close personal friend of mine.\"\n",
      "She looked Case in the eye and made the softest possible\n",
      "spitting sound, her lips barely moving. But she left.\n",
      "\"Jesus,\" Case said, \"what kind a creep joint you running here?\n",
      "Man can't have a drink.\"\n",
      "\"Ha,\" Ratz said, swabbing the scarred wood with a rag,\n",
      "\"Zone shows a percentage. You I let work here for entertain-\n",
      "ment value.\"\n",
      "As Case was picking up his beer, one of those strange\n",
      "instants of silence descended, as though a hundred unrelated\n",
      "conversations had simultaneously arrived at the same pause.\n",
      "Then the whore's giggle rang out, tinged with a certain hysteria.\n",
      "Ratz grunted. \"An angel passed.\"\n",
      "\"The Chinese,\" bellowed a drunken Australian, \"Chinese\n",
      "bloody invented nerve-splicing. Give me the mainland for a\n",
      "nerve job any day. Fix you right, mate....\"\n",
      "\"Now that,\" Case said to his glass, all his bitterness suddenly\n",
      "rising in him like bile, \"that is so much bullshit.\"\n"
     ]
    }
   ],
   "source": [
    "print(data['content']['1'][0])"
   ]
  }
 ],
 "metadata": {
  "kernelspec": {
   "display_name": "Python 3",
   "language": "python",
   "name": "python3"
  },
  "language_info": {
   "codemirror_mode": {
    "name": "ipython",
    "version": 3
   },
   "file_extension": ".py",
   "mimetype": "text/x-python",
   "name": "python",
   "nbconvert_exporter": "python",
   "pygments_lexer": "ipython3",
   "version": "3.10.1"
  }
 },
 "nbformat": 4,
 "nbformat_minor": 2
}
